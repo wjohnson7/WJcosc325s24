{
  "nbformat": 4,
  "nbformat_minor": 0,
  "metadata": {
    "colab": {
      "provenance": [],
      "include_colab_link": true
    },
    "kernelspec": {
      "name": "python3",
      "display_name": "Python 3"
    },
    "language_info": {
      "name": "python"
    }
  },
  "cells": [
    {
      "cell_type": "markdown",
      "metadata": {
        "id": "view-in-github",
        "colab_type": "text"
      },
      "source": [
        "<a href=\"https://colab.research.google.com/github/wjohnson7/WJcosc325s24/blob/main/examplecode/tb/part1_tbparserWJ.ipynb\" target=\"_parent\"><img src=\"https://colab.research.google.com/assets/colab-badge.svg\" alt=\"Open In Colab\"/></a>"
      ]
    },
    {
      "cell_type": "code",
      "execution_count": null,
      "metadata": {
        "id": "Qee4bp84VyzB",
        "colab": {
          "base_uri": "https://localhost:8080/"
        },
        "outputId": "e482b01f-1ef4-4dc2-863f-2faefb2f5395"
      },
      "outputs": [
        {
          "output_type": "stream",
          "name": "stdout",
          "text": [
            "Requirement already satisfied: ply in /usr/local/lib/python3.10/dist-packages (3.11)\n"
          ]
        }
      ],
      "source": [
        "!pip install ply\n"
      ]
    },
    {
      "cell_type": "code",
      "source": [
        "\n",
        "# -----------------------------------------------------------------------------\n",
        "# tiny basic tokenizer\n",
        "#\n",
        "# -----------------------------------------------------------------------------\n",
        "\n",
        "tokens = (\n",
        "    'VAR','NUMBER',\n",
        "    'PLUS','MINUS','TIMES','DIVIDE','EQUALS',\n",
        "    'LPAREN','RPAREN',\n",
        "    'COMMA','SEMICOLON','LESS','GREATER'\n",
        "    'PRINT', 'INPUT', 'LET', 'GOTO', 'GOSUB', 'IF', 'REM', 'END', 'RETURN'\n",
        "    'STRING'\n",
        "    )\n",
        "\n",
        "# Tokens\n",
        "\n",
        "t_PLUS    = r'\\+'\n",
        "t_MINUS   = r'-'\n",
        "t_TIMES   = r'\\*'\n",
        "t_DIVIDE  = r'/'\n",
        "t_EQUALS  = r'='\n",
        "t_LPAREN  = r'\\('\n",
        "t_RPAREN  = r'\\)'\n",
        "t_NAME    = r'[a-zA-Z_][a-zA-Z0-9_]*'\n",
        "\n",
        "def t_NUMBER(t):\n",
        "    r'\\d+'\n",
        "    try:\n",
        "        t.value = int(t.value)\n",
        "    except ValueError:\n",
        "        print(\"Integer value too large %d\", t.value)\n",
        "        t.value = 0\n",
        "    return t\n",
        "\n",
        "# Ignored characters\n",
        "t_ignore = \" \\t\"\n",
        "\n",
        "def t_newline(t):\n",
        "    r'\\n+'\n",
        "    t.lexer.lineno += t.value.count(\"\\n\")\n",
        "\n",
        "def t_error(t):\n",
        "    print(\"Illegal character '%s'\" % t.value[0])\n",
        "    t.lexer.skip(1)\n",
        "\n",
        "# Build the lexer\n",
        "import ply.lex as lex\n",
        "lexer = lex.lex()\n",
        "\n",
        "# Parsing rules\n",
        "\n",
        "precedence = (\n",
        "    ('left','PLUS','MINUS'),\n",
        "    ('left','TIMES','DIVIDE'),\n",
        "    ('right','UMINUS'),\n",
        "    )\n",
        "\n",
        "# dictionary of names\n",
        "names = { }\n",
        "\n",
        "def p_statement_assign(t):\n",
        "    'statement : NAME EQUALS expression'\n",
        "    names[t[1]] = t[3]\n",
        "\n",
        "def p_statement_expr(t):\n",
        "    'statement : expression'\n",
        "    print(t[1])\n",
        "\n",
        "def p_expression_binop(t):\n",
        "    '''expression : expression PLUS expression\n",
        "                  | expression MINUS expression\n",
        "                  | expression TIMES expression\n",
        "                  | expression DIVIDE expression'''\n",
        "    if t[2] == '+'  : t[0] = t[1] + t[3]\n",
        "    elif t[2] == '-': t[0] = t[1] - t[3]\n",
        "    elif t[2] == '*': t[0] = t[1] * t[3]\n",
        "    elif t[2] == '/': t[0] = t[1] / t[3]\n",
        "\n",
        "def p_expression_uminus(t):\n",
        "    'expression : MINUS expression %prec UMINUS'\n",
        "    t[0] = -t[2]\n",
        "\n",
        "def p_expression_group(t):\n",
        "    'expression : LPAREN expression RPAREN'\n",
        "    t[0] = t[2]\n",
        "\n",
        "def p_expression_number(t):\n",
        "    'expression : NUMBER'\n",
        "    t[0] = t[1]\n",
        "\n",
        "def p_expression_name(t):\n",
        "    'expression : NAME'\n",
        "    try:\n",
        "        t[0] = names[t[1]]\n",
        "    except LookupError:\n",
        "        print(\"Undefined name '%s'\" % t[1])\n",
        "        t[0] = 0\n",
        "\n",
        "def p_error(t):\n",
        "    print(\"Syntax error at '%s'\" % t.value)\n",
        "\n",
        "import ply.yacc as yacc\n",
        "parser = yacc.yacc()\n",
        "\n",
        "while True:\n",
        "    try:\n",
        "        s = input('calc > ')   # Use raw_input on Python 2\n",
        "    except EOFError:\n",
        "        break\n",
        "    parser.parse(s)"
      ],
      "metadata": {
        "id": "MP4isoe5Zzzv"
      },
      "execution_count": null,
      "outputs": []
    }
  ]
}