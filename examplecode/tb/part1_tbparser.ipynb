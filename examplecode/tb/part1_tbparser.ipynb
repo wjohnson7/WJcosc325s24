{
  "nbformat": 4,
  "nbformat_minor": 0,
  "metadata": {
    "colab": {
      "provenance": [],
      "mount_file_id": "1TPYcjmcu8OryGrAmVCkSPVNIi_bXdkJp",
      "authorship_tag": "ABX9TyNHEQvvnDIUBXek49Gl8dfB",
      "include_colab_link": true
    },
    "kernelspec": {
      "name": "python3",
      "display_name": "Python 3"
    },
    "language_info": {
      "name": "python"
    }
  },
  "cells": [
    {
      "cell_type": "markdown",
      "metadata": {
        "id": "view-in-github",
        "colab_type": "text"
      },
      "source": [
        "<a href=\"https://colab.research.google.com/github/kartoone/cosc325s24/blob/main/examplecode/tb/part1_tbparser.ipynb\" target=\"_parent\"><img src=\"https://colab.research.google.com/assets/colab-badge.svg\" alt=\"Open In Colab\"/></a>"
      ]
    },
    {
      "cell_type": "code",
      "execution_count": null,
      "metadata": {
        "id": "Qee4bp84VyzB",
        "colab": {
          "base_uri": "https://localhost:8080/"
        },
        "outputId": "906ba6af-5eae-47e1-e9e5-9db51a8bad6d"
      },
      "outputs": [
        {
          "output_type": "stream",
          "name": "stdout",
          "text": [
            "Requirement already satisfied: ply in /usr/local/lib/python3.10/dist-packages (3.11)\n"
          ]
        }
      ],
      "source": [
        "!pip install ply\n"
      ]
    },
    {
      "cell_type": "code",
      "source": [
        "#%cd drive/MyDrive/tb\n",
        "import lexicalanalysis\n"
      ],
      "metadata": {
        "id": "EZhGDI2Ym-iT"
      },
      "execution_count": null,
      "outputs": []
    }
  ]
}